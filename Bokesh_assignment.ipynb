{
  "nbformat": 4,
  "nbformat_minor": 0,
  "metadata": {
    "colab": {
      "provenance": []
    },
    "kernelspec": {
      "name": "python3",
      "display_name": "Python 3"
    },
    "language_info": {
      "name": "python"
    }
  },
  "cells": [
    {
      "cell_type": "markdown",
      "source": [
        "**Bokesh Assignment**"
      ],
      "metadata": {
        "id": "66BD53sMcZFs"
      }
    },
    {
      "cell_type": "markdown",
      "source": [
        "Ques.1  How can you create a Bokeh plot using Python code?"
      ],
      "metadata": {
        "id": "-ClkyWflciTl"
      }
    },
    {
      "cell_type": "code",
      "execution_count": 1,
      "metadata": {
        "colab": {
          "base_uri": "https://localhost:8080/"
        },
        "id": "qQBpWQKycOxo",
        "outputId": "94d4244d-8193-45dd-bfe1-046b77fc5376"
      },
      "outputs": [
        {
          "output_type": "stream",
          "name": "stdout",
          "text": [
            "Requirement already satisfied: bokeh in /usr/local/lib/python3.10/dist-packages (3.3.4)\n",
            "Requirement already satisfied: Jinja2>=2.9 in /usr/local/lib/python3.10/dist-packages (from bokeh) (3.1.4)\n",
            "Requirement already satisfied: contourpy>=1 in /usr/local/lib/python3.10/dist-packages (from bokeh) (1.2.1)\n",
            "Requirement already satisfied: numpy>=1.16 in /usr/local/lib/python3.10/dist-packages (from bokeh) (1.25.2)\n",
            "Requirement already satisfied: packaging>=16.8 in /usr/local/lib/python3.10/dist-packages (from bokeh) (24.0)\n",
            "Requirement already satisfied: pandas>=1.2 in /usr/local/lib/python3.10/dist-packages (from bokeh) (2.0.3)\n",
            "Requirement already satisfied: pillow>=7.1.0 in /usr/local/lib/python3.10/dist-packages (from bokeh) (9.4.0)\n",
            "Requirement already satisfied: PyYAML>=3.10 in /usr/local/lib/python3.10/dist-packages (from bokeh) (6.0.1)\n",
            "Requirement already satisfied: tornado>=5.1 in /usr/local/lib/python3.10/dist-packages (from bokeh) (6.3.3)\n",
            "Requirement already satisfied: xyzservices>=2021.09.1 in /usr/local/lib/python3.10/dist-packages (from bokeh) (2024.4.0)\n",
            "Requirement already satisfied: MarkupSafe>=2.0 in /usr/local/lib/python3.10/dist-packages (from Jinja2>=2.9->bokeh) (2.1.5)\n",
            "Requirement already satisfied: python-dateutil>=2.8.2 in /usr/local/lib/python3.10/dist-packages (from pandas>=1.2->bokeh) (2.8.2)\n",
            "Requirement already satisfied: pytz>=2020.1 in /usr/local/lib/python3.10/dist-packages (from pandas>=1.2->bokeh) (2023.4)\n",
            "Requirement already satisfied: tzdata>=2022.1 in /usr/local/lib/python3.10/dist-packages (from pandas>=1.2->bokeh) (2024.1)\n",
            "Requirement already satisfied: six>=1.5 in /usr/local/lib/python3.10/dist-packages (from python-dateutil>=2.8.2->pandas>=1.2->bokeh) (1.16.0)\n"
          ]
        }
      ],
      "source": [
        "pip install bokeh\n"
      ]
    },
    {
      "cell_type": "code",
      "source": [
        "from bokeh.plotting import figure, output_file, show\n",
        "\n",
        "# Prepare your data\n",
        "x = [1, 2, 3, 4, 5]\n",
        "y = [6, 7, 2, 4, 5]\n",
        "\n",
        "# Create a figure\n",
        "p = figure(title=\"Simple Line Plot\", x_axis_label='x', y_axis_label='y')\n",
        "\n",
        "# Add a line glyph\n",
        "p.line(x, y, legend_label=\"Line\", line_width=2)\n",
        "\n",
        "# Customize the plot\n",
        "p.title.text_color = \"blue\"\n",
        "p.title.text_font_size = \"18px\"\n",
        "p.legend.title = 'Legend'\n",
        "p.legend.label_text_font_size = '10pt'\n",
        "\n",
        "# Output to a static HTML file (optional)\n",
        "output_file(\"line_plot.html\")\n",
        "\n",
        "# Show the plot\n",
        "show(p)\n"
      ],
      "metadata": {
        "id": "jk_4GyBTcz6x"
      },
      "execution_count": 3,
      "outputs": []
    },
    {
      "cell_type": "markdown",
      "source": [
        "Ques.2 What are glyphs in Bokeh, and how can you add them to a Bokeh plot? Explain with an example."
      ],
      "metadata": {
        "id": "LAvM1VmKdL2E"
      }
    },
    {
      "cell_type": "markdown",
      "source": [
        "In Bokeh, glyphs are visual markers that represent data points on a plot. Glyphs can take various forms, such as lines, circles, squares, bars, and more. They are added to a Bokeh plot to visually convey the data being plotted."
      ],
      "metadata": {
        "id": "jcb_Y1KfdY8a"
      }
    },
    {
      "cell_type": "code",
      "source": [
        "from bokeh.plotting import figure, output_file, show\n",
        "\n",
        "# Prepare your data\n",
        "x = [1, 2, 3, 4, 5]\n",
        "y = [6, 7, 2, 4, 5]\n",
        "\n",
        "# Create a figure\n",
        "p = figure(title=\"Glyph Example\", x_axis_label='x', y_axis_label='y')\n",
        "\n",
        "# Add glyphs\n",
        "p.line(x, y, legend_label=\"Line\", line_width=2, line_color=\"blue\")\n",
        "p.circle(x, y, legend_label=\"Circle\", size=10, fill_color=\"red\", line_color=\"black\")\n",
        "\n",
        "# Customize the plot\n",
        "p.title.text_color = \"blue\"\n",
        "p.title.text_font_size = \"18px\"\n",
        "p.legend.title = 'Legend'\n",
        "p.legend.label_text_font_size = '10pt'\n",
        "\n",
        "# Output to a static HTML file (optional)\n",
        "output_file(\"glyph_plot.html\")\n",
        "\n",
        "# Show the plot\n",
        "show(p)\n"
      ],
      "metadata": {
        "id": "-iCT1ZFgdqiU"
      },
      "execution_count": 4,
      "outputs": []
    },
    {
      "cell_type": "markdown",
      "source": [
        "Ques.3  How can you customize the appearance of a Bokeh plot, including the axes, title, and legend?"
      ],
      "metadata": {
        "id": "XAkuoJIwdztq"
      }
    },
    {
      "cell_type": "code",
      "source": [
        "p.title.text = \"Custom Title\"\n",
        "p.title.text_color = \"blue\"\n",
        "p.title.text_font = \"times\"\n",
        "p.title.text_font_size = \"18pt\"\n"
      ],
      "metadata": {
        "id": "diRgi8B2drYO"
      },
      "execution_count": 5,
      "outputs": []
    },
    {
      "cell_type": "code",
      "source": [
        "p.xaxis.axis_label = \"X-axis Label\"\n",
        "p.yaxis.axis_label = \"Y-axis Label\"\n",
        "p.xaxis.axis_label_text_color = \"green\"\n",
        "p.yaxis.axis_label_text_font_style = \"italic\"\n"
      ],
      "metadata": {
        "id": "1W5AkuNGeCHv"
      },
      "execution_count": 6,
      "outputs": []
    },
    {
      "cell_type": "code",
      "source": [
        "p.xaxis.major_label_text_color = \"red\"\n",
        "p.yaxis.major_tick_line_color = \"blue\""
      ],
      "metadata": {
        "id": "S7AA-uyNeFds"
      },
      "execution_count": 7,
      "outputs": []
    },
    {
      "cell_type": "code",
      "source": [
        "p.legend.title = \"Legend Title\"\n",
        "p.legend.title_text_font_size = \"14pt\"\n",
        "p.legend.label_text_font = \"times\"\n",
        "p.legend.label_text_font_style = \"italic\""
      ],
      "metadata": {
        "id": "HWoI1UMTeIv3"
      },
      "execution_count": 8,
      "outputs": []
    },
    {
      "cell_type": "code",
      "source": [
        "p.background_fill_color = \"lightgray\""
      ],
      "metadata": {
        "id": "dVTaelWReaQT"
      },
      "execution_count": 9,
      "outputs": []
    },
    {
      "cell_type": "markdown",
      "source": [
        "Ques.4  What is a Bokeh server, and how can you use it to create interactive plots that can be updated in real time?"
      ],
      "metadata": {
        "id": "pqGkO4X4eco0"
      }
    },
    {
      "cell_type": "code",
      "source": [
        "from bokeh.plotting import curdoc, figure\n",
        "from bokeh.models import ColumnDataSource\n",
        "from random import randrange\n",
        "\n",
        "# Create a figure\n",
        "p = figure(x_range=(0, 10), y_range=(0, 10))\n",
        "source = ColumnDataSource(data={'x': [], 'y': []})\n",
        "\n",
        "# Create a scatter plot\n",
        "p.circle(x='x', y='y', source=source)\n",
        "\n",
        "# Define a callback function to update the plot\n",
        "def update():\n",
        "    new_data = {'x': [randrange(1, 10)], 'y': [randrange(1, 10)]}\n",
        "    source.stream(new_data, rollover=10)\n",
        "\n",
        "# Add a periodic callback to update the plot every second\n",
        "curdoc().add_periodic_callback(update, 1000)\n",
        "\n",
        "# Add the plot to the document\n",
        "curdoc().add_root(p)\n"
      ],
      "metadata": {
        "id": "AiRiJUfbebpX"
      },
      "execution_count": 10,
      "outputs": []
    },
    {
      "cell_type": "markdown",
      "source": [
        "Ques.5 How can you embed a Bokeh plot into a web page or dashboard using Flask or Django ?"
      ],
      "metadata": {
        "id": "yTTwGF6je6M8"
      }
    },
    {
      "cell_type": "markdown",
      "source": [
        "**Flask:**\n",
        "\n",
        "*Create a Flask Application: Set up a Flask application by creating a Python script (app.py) and defining routes.\n",
        "\n",
        "*Create a Bokeh Plot: Create your Bokeh plot in a separate Python script (plot.py). This script should return the Bokeh plot object.\n",
        "\n",
        "*Integrate Bokeh Plot with Flask: Import the Bokeh plot object into your Flask application and render it within a Flask route."
      ],
      "metadata": {
        "id": "ZxOzZS1_fr3_"
      }
    },
    {
      "cell_type": "markdown",
      "source": [
        "**Django:**\n",
        "\n",
        "*Create a Django Application: Set up a Django application by creating an app (myapp) and defining views.\n",
        "\n",
        "*Create a Bokeh Plot: Create your Bokeh plot in a separate Python script (plot.py) or within a view.\n",
        "\n",
        "*Integrate Bokeh Plot with Django: Embed the Bokeh plot within a Django template and render it within a Django view."
      ],
      "metadata": {
        "id": "wi4FpgWif7ZH"
      }
    },
    {
      "cell_type": "markdown",
      "source": [
        "**HTML Template:**\n",
        "\n",
        "In both Flask and Django, you'll need an HTML template to embed the Bokeh plot components (script and div). Here's an example of what the template (index.html) might look like:"
      ],
      "metadata": {
        "id": "ytYTRicagBdm"
      }
    },
    {
      "cell_type": "code",
      "source": [],
      "metadata": {
        "id": "JbnClSM7ffy7"
      },
      "execution_count": null,
      "outputs": []
    }
  ]
}